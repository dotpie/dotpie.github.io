{
 "cells": [
  {
   "cell_type": "raw",
   "id": "14006318",
   "metadata": {},
   "source": [
    "---\n",
    "title: \"Being Part of Other's Growth\"\n",
    "description: \"What and how to contribute to other's growth\"\n",
    "\n",
    "date: 2024-09-29\n",
    "author: dotpie\n",
    "\n",
    "categories: [soft-skills, self-review]\n",
    "\n",
    "---"
   ]
  },
  {
   "cell_type": "markdown",
   "id": "2e2ccc4e",
   "metadata": {},
   "source": [
    "::: {.callout-note collapser=\"false\"}\n",
    "This is a personal reflection on how I can contribute to other's growth.<br/> \n",
    "It is based on my personal experiences so that it could be biased.\n",
    ":::\n",
    "\n",
    "## A knowledge-sharing-chain\n",
    "What is the best way to pass on knowledge and experience to others? As a tutor, mentor, or a colleague, it was a question that I often asked myself. Most of time, I was in a position to help others grow, especially in coding and development. At the time, what I could do was to share my experiences and difficulties with others, because I was also on the middle of learning step.\n",
    "\n",
    "Sharing was enough when I was in student circle. In circle, we were all learned together, same time, same topic. The difficulties I encountered was highly repeated to others. What I tried was stacking my own difficulties and solutions, then share it when other faced the similar issue. This kind of 'sharing chain' was fully effective to boost our learning speed. We were a student and a teacher at the same time. Through this process, I learned to pick up the problems that other could face, and how to share the solution in a way that they could understand.\n",
    "\n",
    "## The requirements for sharing knowledge\n",
    "To make other understand the solution, tutor have to is understanding the fundamental background of the whole situation. Tutor have to decide where to focus on, then connect the key points to make a clear path. \n",
    "\n",
    "Yet, I was a kind of person who explore the whole picture of the problem, point out the key points is kind of complicated task. There were too many things to explain and every detail looked important. To overcome this, I made a strategy by breaking down the problem into small pieces, then pick up the key points of small pieces. After done this, I could make a clear path to the solution.\n",
    "\n",
    "Surely there might be someone who would like to know whole picture of the problem, but most of time, too much information makes them confused. Therefore, to give a proper answer, understanding listener's background is essential. This is not a technical stuff, but a soft skill.\n",
    "\n",
    "Through my experiences, I listed the principle to share the knowledge effectively.\n",
    "\n",
    "1. **Understand the listener's background**: To decide the depth of the explanation, checking the background is essential. The language of explanation should be familiar to the listener.\n",
    "2. **Find out how much motivated the listener is**: The motivation of the lister means how much they want to know the solution. Tutoring and Teaching should not be done in a one-off session, since every knowledge has its own depth. If the listenr wants to know only the solution, then just give the solution. Learning shouldn't be a burden. Theory and background can be explained later.\n",
    "3. **Associate the problem with the listener's goal**: People tends to focus when the problem is related to their own's. As mentioned above, the listener's motivation is important. If the listener has a goal, then associate the problem with the goal. This will make the listener feels that the issue familiar to them. Make them feel that they are not learning, but solving their own problem.\n",
    "\n",
    "These are aimed to make the learner acquire the way to solve the problem. The goal of tutoring is not to give the solution, but to make the listener understand the way to solve the problem.\n",
    "\n",
    "## Proactive contribution \n",
    "The most important thing in sharing knowledge is to be proactive. During the tutoring process, the tutee are going to learn how to find problems and how to ask properly, such as what to ask, what looked important, and what could be suspicious. After the steps, the tutee will be able to discuss the problem with others, and find the solution by themselves. A kind of knowledge-sharing-chain will be formed.\n",
    "\n",
    "Tutor should not be a person who gives the solution, but the person who thinks together with the tutee. To do this, tutor have to be proactive, which means tutor have their own motivation to learn and think. This is the most important thing to be a being part of other's growth.\n",
    "\n",
    "## Conclusion\n",
    "I am still learning how to learn as tutee and tutor. It will be continued during my developer life, and I hope that I could be a developer who have solid foundation of knowledge and experience. "
   ]
  }
 ],
 "metadata": {
  "kernelspec": {
   "display_name": "Python 3",
   "language": "python",
   "name": "python3"
  },
  "language_info": {
   "codemirror_mode": {
    "name": "ipython"
   },
   "file_extension": ".py",
   "mimetype": "text/x-python",
   "name": "python",
   "nbconvert_exporter": "python",
   "pygments_lexer": "ipython3"
  }
 },
 "nbformat": 4,
 "nbformat_minor": 5
}
